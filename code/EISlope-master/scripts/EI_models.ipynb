{
 "cells": [
  {
   "cell_type": "code",
   "execution_count": 1,
   "metadata": {
    "collapsed": false
   },
   "outputs": [
    {
     "name": "stdout",
     "output_type": "stream",
     "text": [
      "Once deleted, variables cannot be recovered. Proceed (y/[n])? y\n"
     ]
    },
    {
     "ename": "ImportError",
     "evalue": "No module named seaborn",
     "output_type": "error",
     "traceback": [
      "\u001b[0;31m---------------------------------------------------------------------------\u001b[0m",
      "\u001b[0;31mImportError\u001b[0m                               Traceback (most recent call last)",
      "\u001b[0;32m<ipython-input-1-6938342469a5>\u001b[0m in \u001b[0;36m<module>\u001b[0;34m()\u001b[0m\n\u001b[1;32m      9\u001b[0m \u001b[0;34m\u001b[0m\u001b[0m\n\u001b[1;32m     10\u001b[0m \u001b[0mget_ipython\u001b[0m\u001b[0;34m(\u001b[0m\u001b[0;34m)\u001b[0m\u001b[0;34m.\u001b[0m\u001b[0mmagic\u001b[0m\u001b[0;34m(\u001b[0m\u001b[0;34mu'matplotlib inline'\u001b[0m\u001b[0;34m)\u001b[0m\u001b[0;34m\u001b[0m\u001b[0m\n\u001b[0;32m---> 11\u001b[0;31m \u001b[0;32mimport\u001b[0m \u001b[0mseaborn\u001b[0m \u001b[0;32mas\u001b[0m \u001b[0msns\u001b[0m\u001b[0;34m\u001b[0m\u001b[0m\n\u001b[0m\u001b[1;32m     12\u001b[0m \u001b[0;32mimport\u001b[0m \u001b[0mmatplotlib\u001b[0m\u001b[0;34m.\u001b[0m\u001b[0mpyplot\u001b[0m \u001b[0;32mas\u001b[0m \u001b[0mplt\u001b[0m\u001b[0;34m\u001b[0m\u001b[0m\n\u001b[1;32m     13\u001b[0m \u001b[0;32mfrom\u001b[0m \u001b[0mmatplotlib\u001b[0m \u001b[0;32mimport\u001b[0m \u001b[0mrcParams\u001b[0m\u001b[0;34m\u001b[0m\u001b[0m\n",
      "\u001b[0;31mImportError\u001b[0m: No module named seaborn"
     ]
    }
   ],
   "source": [
    "% reset\n",
    "% config InlineBackend.figure_format = 'retina'\n",
    "\n",
    "import numpy as np\n",
    "import pandas as pd\n",
    "import scipy as sp\n",
    "from statsmodels.api import add_constant\n",
    "from statsmodels.regression import linear_model\n",
    "\n",
    "% matplotlib inline\n",
    "import seaborn as sns\n",
    "import matplotlib.pyplot as plt\n",
    "from matplotlib import rcParams\n",
    "rcParams['figure.figsize'] = 8, 6\n",
    "rcParams['font.family'] = 'sans-serif'\n",
    "rcParams['font.sans-serif'] = ['Tahoma']\n",
    "sns.set(style='whitegrid', context ='paper')"
   ]
  },
  {
   "cell_type": "code",
   "execution_count": 340,
   "metadata": {
    "collapsed": false
   },
   "outputs": [
    {
     "data": {
      "text/plain": [
       "(946, 4)"
      ]
     },
     "execution_count": 340,
     "metadata": {},
     "output_type": "execute_result"
    }
   ],
   "source": [
    "# load the data\n",
    "file = 'ei_models.csv'\n",
    "df = pd.read_csv(file)\n",
    "\n",
    "np.shape(df)"
   ]
  },
  {
   "cell_type": "code",
   "execution_count": 266,
   "metadata": {
    "collapsed": false
   },
   "outputs": [
    {
     "data": {
      "text/plain": [
       "(0.24121797529045896, 0.087520681201372685, 0.23791594155153151)"
      ]
     },
     "execution_count": 266,
     "metadata": {},
     "output_type": "execute_result"
    }
   ],
   "source": [
    "# just making sure our results are the same\n",
    "\n",
    "Y = df['slope']\n",
    "\n",
    "# full model\n",
    "X = df[['E', 'I', 'EI']]\n",
    "X = add_constant(X)\n",
    "ols_fit = linear_model.OLS(Y, X).fit()\n",
    "e_i_ei_real = ols_fit.rsquared_adj\n",
    "\n",
    "# e & ei model\n",
    "X = df[['E', 'EI']]\n",
    "X = add_constant(X)\n",
    "ols_fit = linear_model.OLS(Y, X).fit()\n",
    "e_ei_real = ols_fit.rsquared_adj\n",
    "\n",
    "\n",
    "# i & ei model\n",
    "X = df[['I', 'EI']]\n",
    "X = add_constant(X)\n",
    "ols_fit = linear_model.OLS(Y, X).fit()\n",
    "i_ei_real = ols_fit.rsquared_adj\n",
    "\n",
    "e_i_ei_real, e_ei_real, i_ei_real"
   ]
  },
  {
   "cell_type": "code",
   "execution_count": 306,
   "metadata": {
    "collapsed": true
   },
   "outputs": [],
   "source": [
    "# resample all the i-model data to build up distributions\n",
    "\n",
    "data_length = np.shape(df)[0]\n",
    "subsample_size = 25 # grab <subsample_size> rows of data\n",
    "surrogate_runs = 500 # get this many adjusted R^2\n",
    "\n",
    "# initialize\n",
    "e_i_ei_surr = np.zeros((surrogate_runs, 1))\n",
    "i_ei_surr = np.zeros((surrogate_runs, 1))\n",
    "e_i_surr = np.zeros((surrogate_runs, 1))\n",
    "ei_surr = np.zeros((surrogate_runs, 1))\n",
    "i_surr = np.zeros((surrogate_runs, 1))\n",
    "\n",
    "for i in range(surrogate_runs):\n",
    "    df_sample = df.sample(n=subsample_size) # subsample the data\n",
    "    \n",
    "    # run the surrogate models and store adj R^2\n",
    "    \n",
    "    # e, i, ei model\n",
    "    Y_surr = df_sample['slope']\n",
    "    X_surr = df_sample[['E', 'I', 'EI']]\n",
    "    X_surr = add_constant(X_surr)\n",
    "    ols_fit = linear_model.OLS(Y_surr, X_surr).fit()\n",
    "    e_i_ei_surr[i] = ols_fit.rsquared_adj\n",
    "    \n",
    "    # i, ei model\n",
    "    X_surr = df_sample[['I', 'EI']]\n",
    "    X_surr = add_constant(X_surr)\n",
    "    ols_fit = linear_model.OLS(Y_surr, X_surr).fit()\n",
    "    i_ei_surr[i] = ols_fit.rsquared_adj\n",
    "    \n",
    "    # e, i model\n",
    "    Y_surr = df_sample['slope']\n",
    "    X_surr = df_sample[['E', 'I']]\n",
    "    X_surr = add_constant(X_surr)\n",
    "    ols_fit = linear_model.OLS(Y_surr, X_surr).fit()\n",
    "    e_i_surr[i] = ols_fit.rsquared_adj\n",
    "\n",
    "    # ei model\n",
    "    X_surr = df_sample[['EI']]\n",
    "    X_surr = add_constant(X_surr)\n",
    "    ols_fit = linear_model.OLS(Y_surr, X_surr).fit()\n",
    "    ei_surr[i] = ols_fit.rsquared_adj\n",
    "    \n",
    "    # i model\n",
    "    X_surr = df_sample[['I']]\n",
    "    X_surr = add_constant(X_surr)\n",
    "    ols_fit = linear_model.OLS(Y_surr, X_surr).fit()\n",
    "    i_surr[i] = ols_fit.rsquared_adj"
   ]
  },
  {
   "cell_type": "code",
   "execution_count": 334,
   "metadata": {
    "collapsed": false
   },
   "outputs": [
    {
     "data": {
      "text/plain": [
       "(295,\n",
       " 0.22195940249823343,\n",
       " 0.23245647610541853,\n",
       " Ttest_relResult(statistic=array([-3.6005173]), pvalue=array([ 0.00034933])))"
      ]
     },
     "execution_count": 334,
     "metadata": {},
     "output_type": "execute_result"
    }
   ],
   "source": [
    "# I v E_I\n",
    "t_ei = sp.stats.ttest_rel(i_surr, e_i_surr)\n",
    "np.shape(np.where((i_surr-e_i_surr)>0))[1], np.mean(i_surr), np.mean(e_i_surr), t_ei"
   ]
  },
  {
   "cell_type": "code",
   "execution_count": 335,
   "metadata": {
    "collapsed": false
   },
   "outputs": [
    {
     "data": {
      "text/plain": [
       "(298,\n",
       " 0.22195940249823343,\n",
       " 0.22833702617916757,\n",
       " Ttest_relResult(statistic=array([-2.81600109]), pvalue=array([ 0.00505503])))"
      ]
     },
     "execution_count": 335,
     "metadata": {},
     "output_type": "execute_result"
    }
   ],
   "source": [
    "# I v I_EI\n",
    "t_ei = sp.stats.ttest_rel(i_surr, i_ei_surr)\n",
    "np.shape(np.where((i_surr-i_ei_surr)>0))[1], np.mean(i_surr), np.mean(i_ei_surr), t_ei"
   ]
  },
  {
   "cell_type": "code",
   "execution_count": 341,
   "metadata": {
    "collapsed": false
   },
   "outputs": [
    {
     "data": {
      "text/plain": [
       "(242,\n",
       " 0.23598507034564312,\n",
       " 0.23852512111522389,\n",
       " Ttest_relResult(statistic=array([-1.52694737]), pvalue=array([ 0.12740768])))"
      ]
     },
     "execution_count": 341,
     "metadata": {},
     "output_type": "execute_result"
    }
   ],
   "source": [
    "# I_EI v E_I\n",
    "t_ei = sp.stats.ttest_rel(i_ei_surr, e_i_surr)\n",
    "np.shape(np.where((i_ei_surr-e_i_surr)>0))[1], np.mean(i_ei_surr), np.mean(e_i_surr), t_ei"
   ]
  },
  {
   "cell_type": "code",
   "execution_count": null,
   "metadata": {
    "collapsed": true
   },
   "outputs": [],
   "source": []
  },
  {
   "cell_type": "code",
   "execution_count": 337,
   "metadata": {
    "collapsed": false
   },
   "outputs": [
    {
     "data": {
      "text/plain": [
       "(356,\n",
       " 0.22833702617916757,\n",
       " 0.2210526850573063,\n",
       " Ttest_relResult(statistic=array([ 4.20426728]), pvalue=array([  3.10463839e-05])))"
      ]
     },
     "execution_count": 337,
     "metadata": {},
     "output_type": "execute_result"
    }
   ],
   "source": [
    "# I_EI v E_I_EI\n",
    "t_ei = sp.stats.ttest_rel(i_ei_surr, e_i_ei_surr)\n",
    "np.shape(np.where((i_ei_surr-e_i_ei_surr)>0))[1], np.mean(i_ei_surr), np.mean(e_i_ei_surr), t_ei"
   ]
  },
  {
   "cell_type": "code",
   "execution_count": 338,
   "metadata": {
    "collapsed": false
   },
   "outputs": [
    {
     "data": {
      "text/plain": [
       "(378,\n",
       " 0.23245647610541853,\n",
       " 0.2210526850573063,\n",
       " Ttest_relResult(statistic=array([ 6.07189143]), pvalue=array([  2.50628967e-09])))"
      ]
     },
     "execution_count": 338,
     "metadata": {},
     "output_type": "execute_result"
    }
   ],
   "source": [
    "# E_I v E_I_EI\n",
    "t_ei = sp.stats.ttest_rel(e_i_surr, e_i_ei_surr)\n",
    "np.shape(np.where((e_i_surr-e_i_ei_surr)>0))[1], np.mean(e_i_surr), np.mean(e_i_ei_surr), t_ei"
   ]
  },
  {
   "cell_type": "code",
   "execution_count": null,
   "metadata": {
    "collapsed": true
   },
   "outputs": [],
   "source": []
  }
 ],
 "metadata": {
  "anaconda-cloud": {},
  "kernelspec": {
   "display_name": "Python [default]",
   "language": "python",
   "name": "python2"
  },
  "language_info": {
   "codemirror_mode": {
    "name": "ipython",
    "version": 2
   },
   "file_extension": ".py",
   "mimetype": "text/x-python",
   "name": "python",
   "nbconvert_exporter": "python",
   "pygments_lexer": "ipython2",
   "version": "2.7.12"
  }
 },
 "nbformat": 4,
 "nbformat_minor": 2
}
